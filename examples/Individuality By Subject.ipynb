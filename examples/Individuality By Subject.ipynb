{
 "cells": [
  {
   "cell_type": "code",
   "execution_count": null,
   "metadata": {},
   "outputs": [],
   "source": [
    "import os\n",
    "\n",
    "import numpy\n",
    "import pandas\n",
    "import scipy\n",
    "from plotly import offline as plotly\n",
    "from plotly import graph_objects\n",
    "from scipy import stats\n",
    "from statsmodels.stats import multitest\n",
    "\n",
    "from pepars.plotting import plotting\n",
    "plotting.init_notebook_mode()\n",
    "\n",
    "import capblood_seq\n",
    "from capblood_seq import config"
   ]
  },
  {
   "cell_type": "code",
   "execution_count": null,
   "metadata": {},
   "outputs": [],
   "source": [
    "FDR_THRESHOLDS = [0.05]\n",
    "GENE_ABUNDANCE_FILTER = 0.1"
   ]
  },
  {
   "cell_type": "code",
   "execution_count": null,
   "metadata": {},
   "outputs": [],
   "source": [
    "# Load the dataset. This downloads it if it doesn't exist already, and loads it into memory\n",
    "dataset = capblood_seq.load_dataset(data_directory=\"data\", pipeline_name=\"normalized\")"
   ]
  },
  {
   "cell_type": "code",
   "execution_count": null,
   "metadata": {},
   "outputs": [],
   "source": [
    "# We want to compare percentages only relative to the cells we were able to identify\n",
    "dataset.filter_multi_labeled_cells(config.CELL_TYPES)\n",
    "dataset.filter_multi_labeled_cells(config.SUBJECT_IDS)\n",
    "dataset.filter_genes_by_percent_abundance(GENE_ABUNDANCE_FILTER, any_sample=True)"
   ]
  },
  {
   "cell_type": "code",
   "execution_count": null,
   "metadata": {},
   "outputs": [],
   "source": [
    "num_genes = dataset.get_num_genes()\n",
    "num_cell_types = len(config.CELL_TYPES)\n",
    "print(\"%s genes after filtering\" % num_genes)"
   ]
  },
  {
   "cell_type": "code",
   "execution_count": null,
   "metadata": {},
   "outputs": [],
   "source": [
    "# Preload transcript counts into numpy arrays\n",
    "\n",
    "cell_type_subject_sample_transcript_counts = {}\n",
    "\n",
    "for cell_type_index, cell_type in enumerate(config.CELL_TYPES + [None]):\n",
    "    for subject_index, subject_id in enumerate(config.SUBJECT_IDS + [None]):\n",
    "        for sample in config.SAMPLE_NAMES:\n",
    "            \n",
    "            transcript_counts = dataset.get_transcript_counts(\n",
    "                sample,\n",
    "                cell_type,\n",
    "                subject_id,\n",
    "                normalized=True\n",
    "            )\n",
    "            \n",
    "            if transcript_counts is None:\n",
    "                continue\n",
    "            \n",
    "            transcript_counts = transcript_counts.to_array()\n",
    "            \n",
    "            cell_type_subject_sample_transcript_counts[(cell_type, subject_id, sample)] = transcript_counts"
   ]
  },
  {
   "cell_type": "code",
   "execution_count": null,
   "metadata": {},
   "outputs": [],
   "source": [
    "individual_p_values = numpy.zeros((dataset.get_num_genes(), len(config.CELL_TYPES)))\n",
    "individual_f_statistics = numpy.zeros((dataset.get_num_genes(), len(config.CELL_TYPES)))\n",
    "num_cells_expressing_gene = numpy.zeros((dataset.get_num_genes(), len(config.CELL_TYPES)))\n",
    "num_cells = numpy.zeros((dataset.get_num_genes(), len(config.CELL_TYPES)))\n",
    "\n",
    "subject_cell_type_p_values = []\n",
    "subject_cell_type_p_value_subject_ids = []\n",
    "\n",
    "for cell_type_index, cell_type in enumerate(config.CELL_TYPES):\n",
    "\n",
    "    for gene_index, gene in enumerate(dataset._gene_list):\n",
    "\n",
    "        all_subject_gene_counts = []\n",
    "\n",
    "        for subject_index, subject_id in enumerate(config.SUBJECT_IDS):\n",
    "\n",
    "            subject_gene_means = []\n",
    "\n",
    "            for sample_index, sample in enumerate(config.SAMPLE_NAMES):\n",
    "                \n",
    "                cell_type_subject_sample = (cell_type, subject_id, sample)\n",
    "                \n",
    "                if cell_type_subject_sample not in cell_type_subject_sample_transcript_counts:\n",
    "                    continue\n",
    "                    \n",
    "                transcript_counts = cell_type_subject_sample_transcript_counts[cell_type_subject_sample][:, gene_index]\n",
    "                gene_mean = transcript_counts.mean()\n",
    "                subject_gene_means.append(gene_mean)\n",
    "                num_cells_expressing_gene[gene_index, cell_type_index] += \\\n",
    "                    transcript_counts[transcript_counts > 0].shape[0]\n",
    "                num_cells[gene_index, cell_type_index] += transcript_counts.shape[0]\n",
    "\n",
    "            all_subject_gene_counts.append(subject_gene_means)\n",
    "\n",
    "        if not numpy.any(numpy.any(all_subject_gene_counts)):\n",
    "            p = numpy.nan\n",
    "            f = numpy.nan\n",
    "        else:\n",
    "            f, p = scipy.stats.f_oneway(*all_subject_gene_counts)\n",
    "\n",
    "        individual_p_values[gene_index, cell_type_index] = p\n",
    "        individual_f_statistics[gene_index, cell_type_index] = f"
   ]
  },
  {
   "cell_type": "code",
   "execution_count": null,
   "metadata": {},
   "outputs": [],
   "source": [
    "# Get just the p values associated with particular cell types\n",
    "individual_p_values_unwrapped = individual_p_values.reshape((-1, ))\n",
    "individual_p_values_nan_mask = numpy.isnan(individual_p_values_unwrapped)\n",
    "\n",
    "# Get just the non-nan ones for multiple comparison correction\n",
    "individual_p_values_non_nan = individual_p_values_unwrapped[~individual_p_values_nan_mask]\n",
    "\n",
    "individual_thresholds = []\n",
    "\n",
    "for threshold in FDR_THRESHOLDS:\n",
    "    # Multiple comparison correction at FDR = 0.1\n",
    "    rejected, _, _, _ = multitest.multipletests(individual_p_values_non_nan, method=\"fdr_bh\", alpha=threshold)\n",
    "    p_value_threshold = individual_p_values_non_nan[rejected].max()\n",
    "    individual_thresholds.append(individual_f_statistics[individual_p_values==p_value_threshold][0])\n",
    "\n",
    "# Fill in any nans with 1 for minimization\n",
    "individual_p_values[numpy.isnan(individual_p_values)] = 1\n",
    "\n",
    "# Get the index of the lowest p-value cell type for each gene\n",
    "lowest_cell_types = individual_p_values.argmin(axis=1)\n",
    "\n",
    "# Get the associated z score for the lowest p-value\n",
    "top_individual_f_statistics = numpy.array([individual_f_statistics[gene_index, lowest_index] for (gene_index, lowest_index) in enumerate(lowest_cell_types)])"
   ]
  },
  {
   "cell_type": "code",
   "execution_count": null,
   "metadata": {},
   "outputs": [],
   "source": [
    "top_individual_p_values = numpy.array([individual_p_values[gene_index, lowest_index] for (gene_index, lowest_index) in enumerate(lowest_cell_types)])"
   ]
  },
  {
   "cell_type": "code",
   "execution_count": null,
   "metadata": {},
   "outputs": [],
   "source": [
    "any_cell_type_rejected = (top_individual_p_values < p_value_threshold)"
   ]
  },
  {
   "cell_type": "code",
   "execution_count": null,
   "metadata": {},
   "outputs": [],
   "source": [
    "all_p_values = []\n",
    "gene_subject_cell_types = []\n",
    "\n",
    "for gene_index, gene in enumerate(dataset._gene_list):\n",
    "    \n",
    "    for cell_type_index, cell_type in enumerate(config.CELL_TYPES):\n",
    "\n",
    "        for subject_index, subject_id in enumerate(config.SUBJECT_IDS):\n",
    "            \n",
    "            subject_gene_means = []\n",
    "            other_gene_means = []\n",
    "            \n",
    "            for other_subject_index, other_subject_id in enumerate(config.SUBJECT_IDS):\n",
    "\n",
    "                for sample_index, sample in enumerate(config.SAMPLE_NAMES):\n",
    "                \n",
    "                    cell_type_subject_sample = (cell_type, other_subject_id, sample)\n",
    "\n",
    "                    if cell_type_subject_sample not in cell_type_subject_sample_transcript_counts:\n",
    "                        continue\n",
    "\n",
    "                    transcript_counts = cell_type_subject_sample_transcript_counts[cell_type_subject_sample][:, gene_index]\n",
    "                    gene_mean = transcript_counts.mean()\n",
    "\n",
    "                    if subject_id == other_subject_id:\n",
    "                        subject_gene_means.append(gene_mean)\n",
    "                    else:\n",
    "                        other_gene_means.append(gene_mean)\n",
    "                \n",
    "            _, p_value = stats.ttest_ind(subject_gene_means, other_gene_means)\n",
    "            \n",
    "            all_p_values.append(p_value)\n",
    "            gene_subject_cell_types.append((gene, cell_type, subject_id))"
   ]
  },
  {
   "cell_type": "code",
   "execution_count": null,
   "metadata": {},
   "outputs": [],
   "source": [
    "subject_significant_genes = {x: set() for x in config.SUBJECT_IDS}\n",
    "\n",
    "for threshold in FDR_THRESHOLDS:\n",
    "    # Multiple comparison correction at FDR = 0.1\n",
    "    rejected, _, _, _ = multitest.multipletests(all_p_values, method=\"fdr_bh\", alpha=threshold)\n",
    "    \n",
    "    for gene_subject_cell_type in numpy.array(gene_subject_cell_types)[rejected]:\n",
    "        subject_significant_genes[gene_subject_cell_type[2]].add(gene_subject_cell_type[0])\n",
    "    \n",
    "    subject_significant_counts = {x: len(subject_significant_genes[x]) for x in subject_significant_genes}"
   ]
  },
  {
   "cell_type": "code",
   "execution_count": null,
   "metadata": {},
   "outputs": [],
   "source": [
    "for threshold in FDR_THRESHOLDS:\n",
    "    \n",
    "    subject_cell_type_significant_genes = {cell_type: {x: set() for x in config.SUBJECT_IDS} for cell_type in config.CELL_TYPES}\n",
    "    \n",
    "    # Multiple comparison correction at FDR = 0.1\n",
    "    rejected, _, _, _ = multitest.multipletests(all_p_values, method=\"fdr_bh\", alpha=threshold)\n",
    "    \n",
    "    for gene_subject_cell_type in numpy.array(gene_subject_cell_types)[rejected]:\n",
    "        subject_cell_type_significant_genes[gene_subject_cell_type[1]][gene_subject_cell_type[2]].add(gene_subject_cell_type[0])\n",
    "        \n",
    "    subject_cell_type_significant_counts = {cell_type: {x: len(y) for x, y in subject_cell_type_significant_genes[cell_type].items()} for cell_type in subject_cell_type_significant_genes}"
   ]
  },
  {
   "cell_type": "code",
   "execution_count": null,
   "metadata": {},
   "outputs": [],
   "source": [
    "subject_cell_type_significance_df = pandas.DataFrame(subject_cell_type_significant_counts)\n",
    "subject_cell_type_significance_df[\"Any\"] = pandas.Series(subject_significant_counts)\n",
    "subject_cell_type_significance_df"
   ]
  },
  {
   "cell_type": "code",
   "execution_count": null,
   "metadata": {},
   "outputs": [],
   "source": [
    "subject_cell_type_significance_df.to_csv(os.path.join(\"data\", \"subject_cell_type_significance_counts.csv\"))"
   ]
  }
 ],
 "metadata": {
  "kernelspec": {
   "display_name": "Python 3",
   "language": "python",
   "name": "python3"
  },
  "language_info": {
   "codemirror_mode": {
    "name": "ipython",
    "version": 3
   },
   "file_extension": ".py",
   "mimetype": "text/x-python",
   "name": "python",
   "nbconvert_exporter": "python",
   "pygments_lexer": "ipython3",
   "version": "3.6.12"
  }
 },
 "nbformat": 4,
 "nbformat_minor": 2
}
