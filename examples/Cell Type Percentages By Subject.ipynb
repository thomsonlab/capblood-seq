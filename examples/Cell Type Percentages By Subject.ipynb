{
 "cells": [
  {
   "cell_type": "code",
   "execution_count": null,
   "metadata": {},
   "outputs": [],
   "source": [
    "import os\n",
    "import numpy\n",
    "import pandas\n",
    "\n",
    "from capblood_seq import config\n",
    "\n",
    "from scrapi.dataset import Gene_Expression_Dataset as GED"
   ]
  },
  {
   "cell_type": "code",
   "execution_count": null,
   "metadata": {},
   "outputs": [],
   "source": [
    "cell_type_labels = []\n",
    "\n",
    "for cell_type in config.CELL_TYPES:\n",
    "    \n",
    "    if cell_type in config.CELL_SUBTYPES:\n",
    "\n",
    "        for cell_subtype in config.CELL_SUBTYPES[cell_type]:\n",
    "\n",
    "            cell_type_labels.append(\"%s %s\" % (cell_subtype, cell_type))\n",
    "    else:\n",
    "        cell_type_labels.append(cell_type)\n",
    "\n",
    "df = pandas.DataFrame(columns=cell_type_labels)\n",
    "\n",
    "for sample in config.SAMPLE_NAMES:\n",
    "    \n",
    "    _, label_barcodes = GED.get_label_cells_from_file(os.path.join(\"data\", sample, \"labels.csv\"))\n",
    "    \n",
    "    for subject_id in config.SUBJECT_IDS:\n",
    "        \n",
    "        if subject_id not in label_barcodes:\n",
    "            continue\n",
    "        \n",
    "        series = pandas.Series(index=cell_type_labels, dtype=numpy.float32)\n",
    "        \n",
    "        for cell_type in cell_type_labels:\n",
    "            series[cell_type] = len(set(label_barcodes[cell_type]).intersection(label_barcodes[subject_id]))\n",
    "        \n",
    "        df.loc[\"%s %s\" % (subject_id, sample)] = series\n",
    "df"
   ]
  },
  {
   "cell_type": "code",
   "execution_count": null,
   "metadata": {},
   "outputs": [],
   "source": [
    "df_percentiles = df.divide(df.sum(axis=1), axis=0)*100\n",
    "df_percentiles.to_csv(os.path.join(\"data\", \"capillary_cell_type_percentages.csv\"))\n",
    "df_percentiles"
   ]
  }
 ],
 "metadata": {
  "kernelspec": {
   "display_name": "Python 3",
   "language": "python",
   "name": "python3"
  },
  "language_info": {
   "codemirror_mode": {
    "name": "ipython",
    "version": 3
   },
   "file_extension": ".py",
   "mimetype": "text/x-python",
   "name": "python",
   "nbconvert_exporter": "python",
   "pygments_lexer": "ipython3",
   "version": "3.6.12"
  }
 },
 "nbformat": 4,
 "nbformat_minor": 4
}
