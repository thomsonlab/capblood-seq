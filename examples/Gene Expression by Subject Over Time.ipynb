{
 "cells": [
  {
   "cell_type": "code",
   "execution_count": null,
   "metadata": {},
   "outputs": [],
   "source": [
    "import os\n",
    "import numpy\n",
    "from plotly import offline as plotly\n",
    "from plotly import graph_objects\n",
    "from scipy import stats\n",
    "from statsmodels.stats import multitest\n",
    "\n",
    "import capblood_seq\n",
    "from capblood_seq import config"
   ]
  },
  {
   "cell_type": "code",
   "execution_count": null,
   "metadata": {},
   "outputs": [],
   "source": [
    "CELL_TYPE = \"Monocytes\"\n",
    "GENE = \"LIPA\""
   ]
  },
  {
   "cell_type": "code",
   "execution_count": null,
   "metadata": {},
   "outputs": [],
   "source": [
    "# Load the dataset. This downloads it if it doesn't exist already, and loads it into memory\n",
    "dataset = capblood_seq.load_dataset(data_directory=\"data\", pipeline_name=\"normalized\")\n",
    "dataset.filter_multi_labeled_cells(config.CELL_TYPES)"
   ]
  },
  {
   "cell_type": "code",
   "execution_count": null,
   "metadata": {},
   "outputs": [],
   "source": [
    "traces = []\n",
    "\n",
    "for subject_id in config.SUBJECT_IDS:\n",
    "    \n",
    "    x_values = []\n",
    "    y_values = []\n",
    "    errors = []\n",
    "    \n",
    "    for sample in config.SAMPLE_NAMES:\n",
    "        \n",
    "        gene_counts = dataset.get_transcript_counts(\n",
    "            sample,\n",
    "            subject_id=subject_id,\n",
    "            cell_type=CELL_TYPE,\n",
    "            normalized=True,\n",
    "            genes=GENE\n",
    "        )\n",
    "        \n",
    "        if gene_counts is None:\n",
    "            continue\n",
    "        \n",
    "        gene_counts = gene_counts.to_array()\n",
    "        gene_mean = gene_counts.mean()\n",
    "        gene_SE = stats.sem(gene_counts)\n",
    "        \n",
    "        y_values.append(gene_mean)\n",
    "        errors.append(gene_SE)\n",
    "        x_values.append(sample)\n",
    "        \n",
    "    color = config.SUBJECT_ID_COLORS[subject_id]\n",
    "    \n",
    "    subject_scatter = graph_objects.Scatter(\n",
    "        x=x_values,\n",
    "        y=y_values,\n",
    "        error_y={\n",
    "            \"array\": errors,\n",
    "            \"thickness\": 1.5,\n",
    "            \"color\": config.SUBJECT_ID_COLORS[subject_id].replace(\"1.00)\", \"0.50)\")\n",
    "        },\n",
    "        name=subject_id,\n",
    "        line={\n",
    "            \"color\": config.SUBJECT_ID_COLORS[subject_id]\n",
    "        }\n",
    "    )\n",
    "    \n",
    "    traces.append(subject_scatter)\n",
    "    \n",
    "title = \"%s Expression Over Time\" % GENE\n",
    "if CELL_TYPE is not None:\n",
    "    title += \"in %s\" % CELL_TYPE\n",
    "    \n",
    "layout = graph_objects.Layout(\n",
    "    {\n",
    "        \"xaxis\": {\n",
    "            \"title\": \"Sample\"\n",
    "        },\n",
    "        \"yaxis\": {\n",
    "            \"title\": \"Mean Expression\",\n",
    "            \"exponentformat\": \"power\"\n",
    "        },\n",
    "        \"plot_bgcolor\": \"rgba(0, 0, 0, 0)\",\n",
    "        \"title\": {\n",
    "            \"text\": \"%s Expression Over Time\" % GENE\n",
    "        },\n",
    "        \"width\": 800,\n",
    "        \"height\": 400\n",
    "    }\n",
    ")\n",
    "\n",
    "figure = graph_objects.Figure(data=traces, layout=layout)\n",
    "plotly.iplot(figure)"
   ]
  },
  {
   "cell_type": "code",
   "execution_count": null,
   "metadata": {},
   "outputs": [],
   "source": [
    "figure.write_image(os.path.join(\"figures\", \"%s_expression_over_time.svg\" % GENE))\n",
    "figure.write_html(os.path.join(\"figures\", \"%s_expression_over_time.html\" % GENE))"
   ]
  }
 ],
 "metadata": {
  "kernelspec": {
   "display_name": "Python 3",
   "language": "python",
   "name": "python3"
  },
  "language_info": {
   "codemirror_mode": {
    "name": "ipython",
    "version": 3
   },
   "file_extension": ".py",
   "mimetype": "text/x-python",
   "name": "python",
   "nbconvert_exporter": "python",
   "pygments_lexer": "ipython3",
   "version": "3.6.9"
  }
 },
 "nbformat": 4,
 "nbformat_minor": 2
}
