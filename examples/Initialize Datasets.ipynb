{
 "cells": [
  {
   "cell_type": "code",
   "execution_count": null,
   "metadata": {},
   "outputs": [],
   "source": [
    "import os\n",
    "\n",
    "import scrapi\n",
    "from scrapi.dataset import Gene_Expression_Dataset as GED\n",
    "\n",
    "from capblood_seq import common as cbs"
   ]
  },
  {
   "cell_type": "code",
   "execution_count": null,
   "metadata": {},
   "outputs": [],
   "source": [
    "# We start by initializing a SCRAP workspace from the raw Cell Ranger files\n",
    "\n",
    "for sample in cbs.SAMPLE_NAMES:\n",
    "    print(\"Initializing %s\" % sample)\n",
    "    dataset_folder_path = os.path.join(\"data\", sample)\n",
    "    dataset = GED.initialize_dataset(\n",
    "        dataset_folder_path,\n",
    "        os.path.join(dataset_folder_path, \"raw_feature_bc_matrix.h5\")\n",
    "    )"
   ]
  }
 ],
 "metadata": {
  "kernelspec": {
   "display_name": "Python 3",
   "language": "python",
   "name": "python3"
  },
  "language_info": {
   "codemirror_mode": {
    "name": "ipython",
    "version": 3
   },
   "file_extension": ".py",
   "mimetype": "text/x-python",
   "name": "python",
   "nbconvert_exporter": "python",
   "pygments_lexer": "ipython3",
   "version": "3.6.9"
  }
 },
 "nbformat": 4,
 "nbformat_minor": 2
}
