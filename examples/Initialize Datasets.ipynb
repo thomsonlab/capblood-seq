{
 "cells": [
  {
   "cell_type": "code",
   "execution_count": null,
   "metadata": {},
   "outputs": [],
   "source": [
    "import os\n",
    "\n",
    "import scrapi\n",
    "from scrapi.dataset import Gene_Expression_Dataset as GED\n",
    "from sparsedat import Sparse_Data_Table as SDT\n",
    "from sparsedat import wrappers\n",
    "\n",
    "from capblood_seq import config"
   ]
  },
  {
   "cell_type": "code",
   "execution_count": null,
   "metadata": {},
   "outputs": [],
   "source": [
    "# We start by initializing a SCRAP workspace from the raw Cell Ranger files\n",
    "\n",
    "for sample in config.SAMPLE_NAMES:\n",
    "    print(\"Initializing %s\" % sample)\n",
    "    dataset_folder_path = os.path.join(\"data\", sample)\n",
    "    dataset = GED.initialize_dataset(\n",
    "        dataset_folder_path,\n",
    "        os.path.join(dataset_folder_path, \"raw_feature_bc_matrix.h5\")\n",
    "    )\n",
    "    \n",
    "    "
   ]
  },
  {
   "cell_type": "code",
   "execution_count": null,
   "metadata": {},
   "outputs": [],
   "source": [
    "for sample in config.SAMPLE_NAMES:\n",
    "    \n",
    "    dataset_folder_path = os.path.join(\"data\", sample)\n",
    "    \n",
    "    scrapi.utils.convert_h5_to_sdt(\n",
    "        os.path.join(dataset_folder_path, \"filtered_feature_bc_matrix.h5\"),\n",
    "        os.path.join(dataset_folder_path, \"filtered_feature_bc_matrix.sdt\")\n",
    "    )"
   ]
  },
  {
   "cell_type": "code",
   "execution_count": null,
   "metadata": {},
   "outputs": [],
   "source": [
    "for sample in config.SAMPLE_NAMES:\n",
    "    \n",
    "    dataset_folder_path = os.path.join(\"data\", sample)\n",
    "    \n",
    "    sdt = SDT(os.path.join(dataset_folder_path, \"filtered_feature_bc_matrix.sdt\"))\n",
    "    ged = GED(dataset_folder_path)\n",
    "    ged.filter_cells(sdt.row_names, exclude=False)\n",
    "    \n",
    "    ged.save(\"cellranger_filtered\")"
   ]
  },
  {
   "cell_type": "code",
   "execution_count": null,
   "metadata": {},
   "outputs": [],
   "source": []
  }
 ],
 "metadata": {
  "kernelspec": {
   "display_name": "Python 3",
   "language": "python",
   "name": "python3"
  },
  "language_info": {
   "codemirror_mode": {
    "name": "ipython",
    "version": 3
   },
   "file_extension": ".py",
   "mimetype": "text/x-python",
   "name": "python",
   "nbconvert_exporter": "python",
   "pygments_lexer": "ipython3",
   "version": "3.6.12"
  }
 },
 "nbformat": 4,
 "nbformat_minor": 2
}
