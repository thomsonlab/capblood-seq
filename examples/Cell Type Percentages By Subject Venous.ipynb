{
 "cells": [
  {
   "cell_type": "code",
   "execution_count": null,
   "metadata": {},
   "outputs": [],
   "source": [
    "import os\n",
    "import numpy\n",
    "import pandas\n",
    "import re\n",
    "\n",
    "from capblood_seq import config\n",
    "\n",
    "from scrapi.dataset import Gene_Expression_Dataset as GED"
   ]
  },
  {
   "cell_type": "code",
   "execution_count": null,
   "metadata": {},
   "outputs": [],
   "source": [
    "STUDIES = [\n",
    "    \"Hashimoto2019\",\n",
    "    \"Hu2019\",\n",
    "    \"Lee2020\"\n",
    "]"
   ]
  },
  {
   "cell_type": "code",
   "execution_count": null,
   "metadata": {},
   "outputs": [],
   "source": [
    "cell_type_labels = []\n",
    "\n",
    "for cell_type in config.CELL_TYPES:\n",
    "    \n",
    "    if cell_type in config.CELL_SUBTYPES:\n",
    "\n",
    "        for cell_subtype in config.CELL_SUBTYPES[cell_type]:\n",
    "\n",
    "            cell_type_labels.append(\"%s %s\" % (cell_subtype, cell_type))\n",
    "    else:\n",
    "        cell_type_labels.append(cell_type)\n",
    "\n",
    "for study in STUDIES:\n",
    "        \n",
    "    df = pandas.DataFrame(columns=cell_type_labels)\n",
    "    \n",
    "    labels_file_path = os.path.join(\"data\", study, \"labels.csv\")\n",
    "    _, label_barcodes = GED.get_label_cells_from_file(labels_file_path)\n",
    "    \n",
    "    subject_barcodes = {}\n",
    "    cell_type_barcodes = {}\n",
    "    \n",
    "    for label, cell_barcodes in label_barcodes.items():\n",
    "        \n",
    "        if re.match(\"S[0-9]+\", label):\n",
    "            subject_barcodes[label] = cell_barcodes\n",
    "        else:\n",
    "            cell_type_barcodes[label] = cell_barcodes\n",
    "            \n",
    "    for subject_id, cell_barcodes in subject_barcodes.items():\n",
    "\n",
    "        series = pandas.Series(index=cell_type_labels, dtype=numpy.float32)\n",
    "        \n",
    "        for cell_type in cell_type_labels:\n",
    "            series[cell_type] = len(set(cell_barcodes).intersection(cell_type_barcodes[cell_type]))\n",
    "        \n",
    "        df.loc[\"%s\" % (subject_id)] = series\n",
    "        \n",
    "    print(study)\n",
    "#     display(df)\n",
    "    df_percentiles = df.divide(df.sum(axis=1), axis=0)*100\n",
    "    display(df_percentiles)\n",
    "    df_percentiles.to_csv(os.path.join(\"data\", \"%s_cell_type_percentages.csv\" % study))"
   ]
  },
  {
   "cell_type": "code",
   "execution_count": null,
   "metadata": {},
   "outputs": [],
   "source": []
  }
 ],
 "metadata": {
  "kernelspec": {
   "display_name": "Python 3",
   "language": "python",
   "name": "python3"
  },
  "language_info": {
   "codemirror_mode": {
    "name": "ipython",
    "version": 3
   },
   "file_extension": ".py",
   "mimetype": "text/x-python",
   "name": "python",
   "nbconvert_exporter": "python",
   "pygments_lexer": "ipython3",
   "version": "3.6.12"
  }
 },
 "nbformat": 4,
 "nbformat_minor": 4
}
