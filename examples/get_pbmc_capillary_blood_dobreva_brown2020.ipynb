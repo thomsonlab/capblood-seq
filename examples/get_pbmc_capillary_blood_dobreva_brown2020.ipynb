{
 "cells": [
  {
   "cell_type": "code",
   "execution_count": null,
   "metadata": {},
   "outputs": [],
   "source": [
    "import capblood_seq\n",
    "import scvi\n",
    "from scvi.dataset import GeneExpressionDataset\n",
    "import numpy\n",
    "from sparsedat import wrappers \n",
    "import scipy\n",
    "from scvi.models.vae import VAE\n",
    "from scvi.inference import UnsupervisedTrainer\n",
    "from scvi.models.scanvi import SCANVI\n",
    "import scanpy as sc\n",
    "from plotly import offline as plotly\n",
    "from sklearn.manifold import TSNE\n",
    "from plotly import graph_objects\n",
    "from umap import UMAP\n",
    "from sklearn.cluster import AgglomerativeClustering\n",
    "from sklearn.cluster import KMeans\n",
    "import torch\n",
    "import pickle\n",
    "import os\n",
    "import random\n",
    "import pandas as pd\n",
    "from scvi import set_seed\n",
    "import pickle\n",
    "from scrapi.dataset import Gene_Expression_Dataset as GED\n",
    "from capblood_seq import config"
   ]
  },
  {
   "cell_type": "code",
   "execution_count": null,
   "metadata": {},
   "outputs": [],
   "source": [
    "SEED=1040"
   ]
  },
  {
   "cell_type": "code",
   "execution_count": null,
   "metadata": {},
   "outputs": [],
   "source": [
    "capblood_seq_data = capblood_seq.load_dataset(\"data\", pipeline_name=\"debris_filtered\")\n",
    "# Combine transcript counts from the different samples into one big matrix\n",
    "\n",
    "cell_sample_index = []\n",
    "combined_transcript_counts = []\n",
    "\n",
    "for sample_index,sample in enumerate(config.SAMPLE_NAMES):\n",
    "    ged = capblood_seq_data._sample_datasets[sample]\n",
    "    cell_transcript_counts = ged.get_cell_transcript_counts()\n",
    "    cell_transcript_counts = cell_transcript_counts.to_array()\n",
    "    combined_transcript_counts.append(cell_transcript_counts)\n",
    "    cell_sample_index.extend([sample_index]*cell_transcript_counts.shape[0])\n",
    "\n",
    "combined_transcript_counts = numpy.concatenate(\n",
    "   combined_transcript_counts, axis=0)"
   ]
  },
  {
   "cell_type": "code",
   "execution_count": null,
   "metadata": {},
   "outputs": [],
   "source": [
    "#Populate the gene expression set with data\n",
    "ged = GeneExpressionDataset()\n",
    "\n",
    "ged.populate_from_data(\n",
    "    combined_transcript_counts,\n",
    "    gene_names=capblood_seq_data.gene_list,\n",
    "    batch_indices=cell_sample_index\n",
    ")"
   ]
  },
  {
   "cell_type": "code",
   "execution_count": null,
   "metadata": {},
   "outputs": [],
   "source": [
    "# Initiliaze variationan autoencoder and training parameters\n",
    "n_epochs = 50\n",
    "learning_rate = 1e-3\n",
    "# Save the training weights\n",
    "latent_pickle_file_name = os.path.join(\"data\", \"Dobreva2020\", \"dobreva2020_nepoch_%i_lr_%.1e_latent.pickle\" % (n_epochs, learning_rate))\n",
    "weights_pickle_file_name = os.path.join(\"data\", \"Dobreva2020\", \"dobreva2020_nepoch_%i_lr_%.1e_weights.pickle\" % (n_epochs, learning_rate))"
   ]
  },
  {
   "cell_type": "code",
   "execution_count": null,
   "metadata": {},
   "outputs": [],
   "source": [
    "vae = VAE(ged.nb_genes,n_batch=ged.n_batches)\n",
    "trainer=UnsupervisedTrainer(vae,ged,train_size=0.8,frequency=1,seed=SEED)"
   ]
  },
  {
   "cell_type": "code",
   "execution_count": null,
   "metadata": {},
   "outputs": [],
   "source": [
    "# If you can't load existing latent space, train!\n",
    "if not os.path.exists(latent_pickle_file_name):\n",
    "\n",
    "    set_seed(SEED)\n",
    "    \n",
    "    trainer.train(n_epochs=n_epochs, lr=learning_rate)\n",
    "    torch.save(trainer.model.state_dict(), weights_pickle_file_name)\n",
    "    \n",
    "    full = trainer.create_posterior(trainer.model, ged, indices=numpy.arange(len(ged)))\n",
    "    latent, _, _ = full.sequential().get_latent()\n",
    "    \n",
    "    with open(latent_pickle_file_name, 'wb') as latent_pickle_file:\n",
    "        pickle.dump(latent, latent_pickle_file, protocol=pickle.HIGHEST_PROTOCOL)\n",
    "\n",
    "else:\n",
    "    \n",
    "    weights_pickle_file = torch.load(weights_pickle_file_name)\n",
    "    trainer.model.load_state_dict(weights_pickle_file)\n",
    "    \n",
    "    with open(latent_pickle_file_name, 'rb') as latent_pickle_file:\n",
    "        latent = pickle.load(latent_pickle_file)"
   ]
  },
  {
   "cell_type": "code",
   "execution_count": null,
   "metadata": {},
   "outputs": [],
   "source": [
    "tsne = TSNE(n_components = 2,random_state=SEED).fit_transform(latent)"
   ]
  },
  {
   "cell_type": "code",
   "execution_count": null,
   "metadata": {},
   "outputs": [],
   "source": [
    "clusters = AgglomerativeClustering(n_clusters=13).fit_predict(latent)"
   ]
  },
  {
   "cell_type": "code",
   "execution_count": null,
   "metadata": {},
   "outputs": [],
   "source": [
    "traces = []\n",
    "\n",
    "for cluster_index in range(clusters.max()+1):\n",
    "    \n",
    "    x = tsne[clusters == cluster_index, 0]\n",
    "    y = tsne[clusters == cluster_index, 1]\n",
    "    \n",
    "    trace = graph_objects.Scatter(\n",
    "        x=x,\n",
    "        y=y,\n",
    "        name=\"Cluster %i\" % cluster_index,\n",
    "        mode=\"markers\"\n",
    "    )\n",
    "    \n",
    "    traces.append(trace)\n",
    "\n",
    "figure = graph_objects.Figure(traces)\n",
    "\n",
    "plotly.iplot(figure)"
   ]
  },
  {
   "cell_type": "code",
   "execution_count": null,
   "metadata": {},
   "outputs": [],
   "source": [
    "cluster_cell_marker_map = {}\n",
    "cluster_cell_marker_map[3] = 'CD4 T Cells'\n",
    "cluster_cell_marker_map[7] = 'CD4 T Cells'\n",
    "\n",
    "cluster_cell_marker_map[2] = 'CD8 T Cells'\n",
    "cluster_cell_marker_map[9] = 'CD8 T Cells'\n",
    "\n",
    "cluster_cell_marker_map[4] = 'NK Cells'\n",
    "cluster_cell_marker_map[5] = 'NK Cells'\n",
    "\n",
    "cluster_cell_marker_map[11] = 'B Cells'\n",
    "cluster_cell_marker_map[12] = 'B Cells'\n",
    "\n",
    "cluster_cell_marker_map[0] = 'CD14 Monocytes'\n",
    "cluster_cell_marker_map[10] = 'CD14 Monocytes'\n",
    "\n",
    "cluster_cell_marker_map[6] = 'CD16 Monocytes'\n",
    "\n",
    "cluster_cell_marker_map[8] = 'Dendritic Cells'\n",
    "\n",
    "\n",
    "cluster_cell_marker_map"
   ]
  },
  {
   "cell_type": "code",
   "execution_count": null,
   "metadata": {},
   "outputs": [],
   "source": [
    "cell_index = 0\n",
    "\n",
    "for sample_index, sample in enumerate(config.SAMPLE_NAMES):\n",
    "    \n",
    "    ged = capblood_seq_data._sample_datasets[sample]\n",
    "    \n",
    "    num_cells = ged.num_cells\n",
    "    \n",
    "    # Rows are cells\n",
    "    cell_barcodes = numpy.array(ged._cell_transcript_counts.row_names)\n",
    "    \n",
    "    for cluster, label in cluster_cell_marker_map.items():\n",
    "        \n",
    "        cluster_mask = clusters == cluster\n",
    "        cluster_mask = cluster_mask[cell_index:cell_index+num_cells]\n",
    "        \n",
    "        label_barcodes = cell_barcodes[cluster_mask]\n",
    "        label = cluster_cell_marker_map[cluster]\n",
    "        \n",
    "        ged.label_cells(label, label_barcodes)\n",
    "        \n",
    "    ged.save_labels()\n",
    "    \n",
    "    cell_index += num_cells"
   ]
  },
  {
   "cell_type": "code",
   "execution_count": null,
   "metadata": {},
   "outputs": [],
   "source": [
    "GENE = \"COX5A\"\n",
    "\n",
    "gene_index = capblood_seq_data.gene_list.index(GENE)\n",
    "\n",
    "traces = []\n",
    "    \n",
    "x = tsne[:, 0]\n",
    "y = tsne[:, 1]\n",
    "\n",
    "trace = graph_objects.Scatter(\n",
    "    x=x,\n",
    "    y=y,\n",
    "    name=\"Cluster %i\" % cluster_index,\n",
    "    mode=\"markers\",\n",
    "    marker={\n",
    "        \"color\": combined_transcript_counts[:, gene_index].flatten()\n",
    "    }\n",
    ")\n",
    "\n",
    "traces.append(trace)\n",
    "\n",
    "figure = graph_objects.Figure(traces)\n",
    "\n",
    "plotly.iplot(figure)"
   ]
  },
  {
   "cell_type": "code",
   "execution_count": null,
   "metadata": {},
   "outputs": [],
   "source": []
  },
  {
   "cell_type": "code",
   "execution_count": null,
   "metadata": {},
   "outputs": [],
   "source": [
    "lee_cell_stat_pd\n"
   ]
  },
  {
   "cell_type": "code",
   "execution_count": null,
   "metadata": {},
   "outputs": [],
   "source": []
  }
 ],
 "metadata": {
  "kernelspec": {
   "display_name": "Python 3",
   "language": "python",
   "name": "python3"
  },
  "language_info": {
   "codemirror_mode": {
    "name": "ipython",
    "version": 3
   },
   "file_extension": ".py",
   "mimetype": "text/x-python",
   "name": "python",
   "nbconvert_exporter": "python",
   "pygments_lexer": "ipython3",
   "version": "3.8.2"
  }
 },
 "nbformat": 4,
 "nbformat_minor": 4
}
