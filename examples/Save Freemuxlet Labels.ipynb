{
 "cells": [
  {
   "cell_type": "code",
   "execution_count": null,
   "metadata": {},
   "outputs": [],
   "source": [
    "import os\n",
    "import pandas\n",
    "from capblood_seq import config\n",
    "\n",
    "from sparsedat import Sparse_Data_Table as SDT\n",
    "from scrapi.dataset import Gene_Expression_Dataset as GED"
   ]
  },
  {
   "cell_type": "code",
   "execution_count": null,
   "metadata": {},
   "outputs": [],
   "source": [
    "old_new_subject_lookup = {\n",
    "    \"S1\": \"S4\",\n",
    "    \"S2\": \"S2\",\n",
    "    \"S3\": \"S1\",\n",
    "    \"S4\": \"S3\"\n",
    "}\n",
    "\n",
    "SUBJECT_LABELS = [\n",
    "    \"S4\",\n",
    "    \"S2\",\n",
    "    \"S1\",\n",
    "    \"S3\"\n",
    "]"
   ]
  },
  {
   "cell_type": "code",
   "execution_count": null,
   "metadata": {},
   "outputs": [],
   "source": [
    "sample_subject_cell_barcodes = {}\n",
    "\n",
    "for sample in config.SAMPLE_NAMES:\n",
    "    sample_subject_cell_barcodes[sample] = {x: set() for x in config.SUBJECT_IDS}\n",
    "\n",
    "freemux = pandas.read_csv(os.path.join(\"..\", \"..\", \"demux_debug\", \"demux_data\", \"merged\", \"freemuxlet.clust1.samples\"), delim_whitespace=True, index_col=0, header=0)\n",
    "\n",
    "for row in freemux.iterrows():\n",
    "        \n",
    "    if row[1][\"DROPLET.TYPE\"] == \"SNG\":\n",
    "        cell_barcode_elements = row[1][\"BARCODE\"].split(\"-\")\n",
    "        cell_barcode = cell_barcode_elements[0] + \"-1\"\n",
    "        sample_index = int(cell_barcode_elements[1])\n",
    "        best_guess = row[1][\"BEST.GUESS\"]\n",
    "        subject_index_1 = int(best_guess.split(\",\")[0])\n",
    "        subject_index_2 = int(best_guess.split(\",\")[1])\n",
    "        \n",
    "        if subject_id_1 == subject_id_2:\n",
    "            sample_subject_cell_barcodes[config.SAMPLE_NAMES[sample_index]][old_new_subject_lookup[subject_id_1]].add(cell_barcode)"
   ]
  },
  {
   "cell_type": "code",
   "execution_count": null,
   "metadata": {},
   "outputs": [],
   "source": [
    "for sample_index, sample in enumerate(config.SAMPLE_NAMES):\n",
    "    \n",
    "    GED.write_label_cells_to_file(sample_subject_cell_barcodes[sample], os.path.join(\"data\", sample, \"labels_freemuxlet.csv\"))"
   ]
  },
  {
   "cell_type": "code",
   "execution_count": null,
   "metadata": {},
   "outputs": [],
   "source": []
  }
 ],
 "metadata": {
  "kernelspec": {
   "display_name": "Python 3",
   "language": "python",
   "name": "python3"
  },
  "language_info": {
   "codemirror_mode": {
    "name": "ipython",
    "version": 3
   },
   "file_extension": ".py",
   "mimetype": "text/x-python",
   "name": "python",
   "nbconvert_exporter": "python",
   "pygments_lexer": "ipython3",
   "version": "3.6.12"
  }
 },
 "nbformat": 4,
 "nbformat_minor": 4
}
