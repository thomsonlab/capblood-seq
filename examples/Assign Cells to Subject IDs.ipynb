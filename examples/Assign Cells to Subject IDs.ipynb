{
 "cells": [
  {
   "cell_type": "code",
   "execution_count": null,
   "metadata": {},
   "outputs": [],
   "source": [
    "import os\n",
    "\n",
    "import pandas\n",
    "\n",
    "from scrapi.dataset import Gene_Expression_Dataset as GED\n",
    "\n",
    "from capblood_seq import config as config"
   ]
  },
  {
   "cell_type": "code",
   "execution_count": null,
   "metadata": {},
   "outputs": [],
   "source": [
    "# Which pipeline we want to use to add labels to. We use our debris_filtered data,\n",
    "# so that only cells that survive the debris filtering get a subject label\n",
    "PIPELINE_NAME = \"debris_filtered\""
   ]
  },
  {
   "cell_type": "code",
   "execution_count": null,
   "metadata": {},
   "outputs": [],
   "source": [
    "for sample in config.SAMPLE_NAMES:\n",
    "    \n",
    "    subject_cell_barcodes = { subject_id: [] for subject_id in config.SUBJECT_IDS}\n",
    "    \n",
    "    # Load the output from demuxlet for this sample\n",
    "    demuxlet_file_path = os.path.join(\"data\", sample, \"demuxed.best\")\n",
    "    demuxed_df = pandas.read_csv(demuxlet_file_path, delim_whitespace=True, index_col=0, header=0)\n",
    "    \n",
    "    # Loop through all the entries to inspect each cell\n",
    "    for row in demuxed_df.iterrows():\n",
    "        \n",
    "        cell_barcode = row[0]\n",
    "        cell_call_text = row[1][\"BEST\"]\n",
    "        \n",
    "        # Check if any of the subjects are the \"best\" call from demuxlet\n",
    "        for subject_id in config.SUBJECT_IDS:\n",
    "            if cell_call_text == \"SNG-%s_GENOTYPE\" % subject_id:\n",
    "                subject_cell_barcodes[subject_id].append(cell_barcode)\n",
    "    \n",
    "    # Label these subjects cells in the dataset\n",
    "    dataset = GED(os.path.join(\"data\", sample), name=PIPELINE_NAME)\n",
    "    for subject_id in config.SUBJECT_IDS:\n",
    "        dataset.label_cells(subject_id, subject_cell_barcodes[subject_id])\n",
    "        \n",
    "    if sample == \"PM3\":\n",
    "        # Remove Subjects 1 and 4 from the last sample - they were not\n",
    "        # sampled at this time point.\n",
    "        dataset.delete_label(\"S1\")\n",
    "        dataset.delete_label(\"S4\")\n",
    "    \n",
    "    dataset.save_labels()"
   ]
  },
  {
   "cell_type": "code",
   "execution_count": null,
   "metadata": {},
   "outputs": [],
   "source": []
  }
 ],
 "metadata": {
  "kernelspec": {
   "display_name": "Python 3",
   "language": "python",
   "name": "python3"
  },
  "language_info": {
   "codemirror_mode": {
    "name": "ipython",
    "version": 3
   },
   "file_extension": ".py",
   "mimetype": "text/x-python",
   "name": "python",
   "nbconvert_exporter": "python",
   "pygments_lexer": "ipython3",
   "version": "3.6.9"
  }
 },
 "nbformat": 4,
 "nbformat_minor": 2
}
