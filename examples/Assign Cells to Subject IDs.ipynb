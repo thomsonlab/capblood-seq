{
 "cells": [
  {
   "cell_type": "code",
   "execution_count": null,
   "metadata": {},
   "outputs": [],
   "source": [
    "import os\n",
    "import pandas\n",
    "from capblood_seq import config\n",
    "\n",
    "from sparsedat import Sparse_Data_Table as SDT\n",
    "from scrapi.dataset import Gene_Expression_Dataset as GED"
   ]
  },
  {
   "cell_type": "code",
   "execution_count": null,
   "metadata": {},
   "outputs": [],
   "source": [
    "# Which pipeline we want to use to add labels to. We use our debris_filtered data,\n",
    "# so that only cells that survive the debris filtering get a subject label\n",
    "PIPELINE_NAME = \"debris_filtered\"\n",
    "\n",
    "SUBJECT_LABELS = [\n",
    "    \"S4\",\n",
    "    \"S2\",\n",
    "    \"S1\",\n",
    "    \"S3\"\n",
    "]"
   ]
  },
  {
   "cell_type": "code",
   "execution_count": null,
   "metadata": {},
   "outputs": [],
   "source": [
    "sample_subject_cell_barcodes = {}\n",
    "\n",
    "for sample in config.SAMPLE_NAMES:\n",
    "    sample_subject_cell_barcodes[sample] = {x: set() for x in config.SUBJECT_IDS}\n",
    "\n",
    "demux_results = pandas.read_csv(os.path.join(\"data\", \"freemuxlet.clust1.samples\"), delim_whitespace=True, index_col=0, header=0)\n",
    "\n",
    "for row in demux_results.iterrows():\n",
    "        \n",
    "    if row[1][\"DROPLET.TYPE\"] == \"SNG\":\n",
    "        cell_barcode_elements = row[1][\"BARCODE\"].split(\"-\")\n",
    "        cell_barcode = cell_barcode_elements[0] + \"-1\"\n",
    "        sample_index = int(cell_barcode_elements[1])\n",
    "        best_guess = row[1][\"BEST.GUESS\"]\n",
    "        subject_index_1 = int(best_guess.split(\",\")[0])\n",
    "        subject_index_2 = int(best_guess.split(\",\")[1])\n",
    "        \n",
    "        if subject_index_1 == subject_index_2:\n",
    "            sample_subject_cell_barcodes[config.SAMPLE_NAMES[sample_index]][SUBJECT_LABELS[subject_index_1]].add(cell_barcode)"
   ]
  },
  {
   "cell_type": "code",
   "execution_count": null,
   "metadata": {},
   "outputs": [],
   "source": [
    "for sample in config.SAMPLE_NAMES:\n",
    "    \n",
    "    dataset = GED(os.path.join(\"data\", sample), name=PIPELINE_NAME)\n",
    "    \n",
    "    for subject_label, cell_barcodes in sample_subject_cell_barcodes[sample].items():\n",
    "        \n",
    "        if subject_label in dataset.get_labels():\n",
    "            dataset.delete_label(subject_label)\n",
    "        \n",
    "        dataset.label_cells(subject_label, cell_barcodes)\n",
    "        \n",
    "    if sample == \"PM3\":\n",
    "        # Remove Subjects 1 and 4 from the last sample - they were not\n",
    "        # sampled at this time point.\n",
    "        dataset.delete_label(\"S1\")\n",
    "        dataset.delete_label(\"S4\")\n",
    "        \n",
    "    dataset.save_labels()"
   ]
  },
  {
   "cell_type": "code",
   "execution_count": null,
   "metadata": {},
   "outputs": [],
   "source": []
  }
 ],
 "metadata": {
  "kernelspec": {
   "display_name": "Python 3",
   "language": "python",
   "name": "python3"
  },
  "language_info": {
   "codemirror_mode": {
    "name": "ipython",
    "version": 3
   },
   "file_extension": ".py",
   "mimetype": "text/x-python",
   "name": "python",
   "nbconvert_exporter": "python",
   "pygments_lexer": "ipython3",
   "version": "3.6.12"
  }
 },
 "nbformat": 4,
 "nbformat_minor": 2
}
